{
 "cells": [
  {
   "cell_type": "code",
   "execution_count": 37,
   "id": "122bab58",
   "metadata": {},
   "outputs": [],
   "source": [
    "import pandas as pd\n",
    "import numpy as np\n",
    "import seaborn as sns"
   ]
  },
  {
   "cell_type": "code",
   "execution_count": 4,
   "id": "07a0f763",
   "metadata": {},
   "outputs": [],
   "source": [
    "data= pd.read_csv(\"Jan_2019_ontime.csv\")"
   ]
  },
  {
   "cell_type": "code",
   "execution_count": 5,
   "id": "6686ff21",
   "metadata": {
    "scrolled": true
   },
   "outputs": [
    {
     "data": {
      "text/html": [
       "<div>\n",
       "<style scoped>\n",
       "    .dataframe tbody tr th:only-of-type {\n",
       "        vertical-align: middle;\n",
       "    }\n",
       "\n",
       "    .dataframe tbody tr th {\n",
       "        vertical-align: top;\n",
       "    }\n",
       "\n",
       "    .dataframe thead th {\n",
       "        text-align: right;\n",
       "    }\n",
       "</style>\n",
       "<table border=\"1\" class=\"dataframe\">\n",
       "  <thead>\n",
       "    <tr style=\"text-align: right;\">\n",
       "      <th></th>\n",
       "      <th>DAY_OF_MONTH</th>\n",
       "      <th>DAY_OF_WEEK</th>\n",
       "      <th>OP_UNIQUE_CARRIER</th>\n",
       "      <th>OP_CARRIER_AIRLINE_ID</th>\n",
       "      <th>OP_CARRIER</th>\n",
       "      <th>TAIL_NUM</th>\n",
       "      <th>OP_CARRIER_FL_NUM</th>\n",
       "      <th>ORIGIN_AIRPORT_ID</th>\n",
       "      <th>ORIGIN_AIRPORT_SEQ_ID</th>\n",
       "      <th>ORIGIN</th>\n",
       "      <th>...</th>\n",
       "      <th>DEST</th>\n",
       "      <th>DEP_TIME</th>\n",
       "      <th>DEP_DEL15</th>\n",
       "      <th>DEP_TIME_BLK</th>\n",
       "      <th>ARR_TIME</th>\n",
       "      <th>ARR_DEL15</th>\n",
       "      <th>CANCELLED</th>\n",
       "      <th>DIVERTED</th>\n",
       "      <th>DISTANCE</th>\n",
       "      <th>Unnamed: 21</th>\n",
       "    </tr>\n",
       "  </thead>\n",
       "  <tbody>\n",
       "    <tr>\n",
       "      <th>0</th>\n",
       "      <td>1</td>\n",
       "      <td>2</td>\n",
       "      <td>9E</td>\n",
       "      <td>20363</td>\n",
       "      <td>9E</td>\n",
       "      <td>N8688C</td>\n",
       "      <td>3280</td>\n",
       "      <td>11953</td>\n",
       "      <td>1195302</td>\n",
       "      <td>GNV</td>\n",
       "      <td>...</td>\n",
       "      <td>ATL</td>\n",
       "      <td>601.0</td>\n",
       "      <td>0.0</td>\n",
       "      <td>0600-0659</td>\n",
       "      <td>722.0</td>\n",
       "      <td>0.0</td>\n",
       "      <td>0.0</td>\n",
       "      <td>0.0</td>\n",
       "      <td>300.0</td>\n",
       "      <td>NaN</td>\n",
       "    </tr>\n",
       "    <tr>\n",
       "      <th>1</th>\n",
       "      <td>1</td>\n",
       "      <td>2</td>\n",
       "      <td>9E</td>\n",
       "      <td>20363</td>\n",
       "      <td>9E</td>\n",
       "      <td>N348PQ</td>\n",
       "      <td>3281</td>\n",
       "      <td>13487</td>\n",
       "      <td>1348702</td>\n",
       "      <td>MSP</td>\n",
       "      <td>...</td>\n",
       "      <td>CVG</td>\n",
       "      <td>1359.0</td>\n",
       "      <td>0.0</td>\n",
       "      <td>1400-1459</td>\n",
       "      <td>1633.0</td>\n",
       "      <td>0.0</td>\n",
       "      <td>0.0</td>\n",
       "      <td>0.0</td>\n",
       "      <td>596.0</td>\n",
       "      <td>NaN</td>\n",
       "    </tr>\n",
       "    <tr>\n",
       "      <th>2</th>\n",
       "      <td>1</td>\n",
       "      <td>2</td>\n",
       "      <td>9E</td>\n",
       "      <td>20363</td>\n",
       "      <td>9E</td>\n",
       "      <td>N8896A</td>\n",
       "      <td>3282</td>\n",
       "      <td>11433</td>\n",
       "      <td>1143302</td>\n",
       "      <td>DTW</td>\n",
       "      <td>...</td>\n",
       "      <td>CVG</td>\n",
       "      <td>1215.0</td>\n",
       "      <td>0.0</td>\n",
       "      <td>1200-1259</td>\n",
       "      <td>1329.0</td>\n",
       "      <td>0.0</td>\n",
       "      <td>0.0</td>\n",
       "      <td>0.0</td>\n",
       "      <td>229.0</td>\n",
       "      <td>NaN</td>\n",
       "    </tr>\n",
       "    <tr>\n",
       "      <th>3</th>\n",
       "      <td>1</td>\n",
       "      <td>2</td>\n",
       "      <td>9E</td>\n",
       "      <td>20363</td>\n",
       "      <td>9E</td>\n",
       "      <td>N8886A</td>\n",
       "      <td>3283</td>\n",
       "      <td>15249</td>\n",
       "      <td>1524906</td>\n",
       "      <td>TLH</td>\n",
       "      <td>...</td>\n",
       "      <td>ATL</td>\n",
       "      <td>1521.0</td>\n",
       "      <td>0.0</td>\n",
       "      <td>1500-1559</td>\n",
       "      <td>1625.0</td>\n",
       "      <td>0.0</td>\n",
       "      <td>0.0</td>\n",
       "      <td>0.0</td>\n",
       "      <td>223.0</td>\n",
       "      <td>NaN</td>\n",
       "    </tr>\n",
       "    <tr>\n",
       "      <th>4</th>\n",
       "      <td>1</td>\n",
       "      <td>2</td>\n",
       "      <td>9E</td>\n",
       "      <td>20363</td>\n",
       "      <td>9E</td>\n",
       "      <td>N8974C</td>\n",
       "      <td>3284</td>\n",
       "      <td>10397</td>\n",
       "      <td>1039707</td>\n",
       "      <td>ATL</td>\n",
       "      <td>...</td>\n",
       "      <td>FSM</td>\n",
       "      <td>1847.0</td>\n",
       "      <td>0.0</td>\n",
       "      <td>1900-1959</td>\n",
       "      <td>1940.0</td>\n",
       "      <td>0.0</td>\n",
       "      <td>0.0</td>\n",
       "      <td>0.0</td>\n",
       "      <td>579.0</td>\n",
       "      <td>NaN</td>\n",
       "    </tr>\n",
       "  </tbody>\n",
       "</table>\n",
       "<p>5 rows × 22 columns</p>\n",
       "</div>"
      ],
      "text/plain": [
       "   DAY_OF_MONTH  DAY_OF_WEEK OP_UNIQUE_CARRIER  OP_CARRIER_AIRLINE_ID  \\\n",
       "0             1            2                9E                  20363   \n",
       "1             1            2                9E                  20363   \n",
       "2             1            2                9E                  20363   \n",
       "3             1            2                9E                  20363   \n",
       "4             1            2                9E                  20363   \n",
       "\n",
       "  OP_CARRIER TAIL_NUM  OP_CARRIER_FL_NUM  ORIGIN_AIRPORT_ID  \\\n",
       "0         9E   N8688C               3280              11953   \n",
       "1         9E   N348PQ               3281              13487   \n",
       "2         9E   N8896A               3282              11433   \n",
       "3         9E   N8886A               3283              15249   \n",
       "4         9E   N8974C               3284              10397   \n",
       "\n",
       "   ORIGIN_AIRPORT_SEQ_ID ORIGIN  ...  DEST  DEP_TIME DEP_DEL15  DEP_TIME_BLK  \\\n",
       "0                1195302    GNV  ...   ATL     601.0       0.0     0600-0659   \n",
       "1                1348702    MSP  ...   CVG    1359.0       0.0     1400-1459   \n",
       "2                1143302    DTW  ...   CVG    1215.0       0.0     1200-1259   \n",
       "3                1524906    TLH  ...   ATL    1521.0       0.0     1500-1559   \n",
       "4                1039707    ATL  ...   FSM    1847.0       0.0     1900-1959   \n",
       "\n",
       "   ARR_TIME ARR_DEL15  CANCELLED  DIVERTED  DISTANCE  Unnamed: 21  \n",
       "0     722.0       0.0        0.0       0.0     300.0          NaN  \n",
       "1    1633.0       0.0        0.0       0.0     596.0          NaN  \n",
       "2    1329.0       0.0        0.0       0.0     229.0          NaN  \n",
       "3    1625.0       0.0        0.0       0.0     223.0          NaN  \n",
       "4    1940.0       0.0        0.0       0.0     579.0          NaN  \n",
       "\n",
       "[5 rows x 22 columns]"
      ]
     },
     "execution_count": 5,
     "metadata": {},
     "output_type": "execute_result"
    }
   ],
   "source": [
    "data.head()"
   ]
  },
  {
   "cell_type": "code",
   "execution_count": 6,
   "id": "675b40fc",
   "metadata": {},
   "outputs": [
    {
     "data": {
      "text/plain": [
       "(583985, 22)"
      ]
     },
     "execution_count": 6,
     "metadata": {},
     "output_type": "execute_result"
    }
   ],
   "source": [
    "data.shape"
   ]
  },
  {
   "cell_type": "code",
   "execution_count": 7,
   "id": "20ffa328",
   "metadata": {},
   "outputs": [
    {
     "data": {
      "text/html": [
       "<div>\n",
       "<style scoped>\n",
       "    .dataframe tbody tr th:only-of-type {\n",
       "        vertical-align: middle;\n",
       "    }\n",
       "\n",
       "    .dataframe tbody tr th {\n",
       "        vertical-align: top;\n",
       "    }\n",
       "\n",
       "    .dataframe thead th {\n",
       "        text-align: right;\n",
       "    }\n",
       "</style>\n",
       "<table border=\"1\" class=\"dataframe\">\n",
       "  <thead>\n",
       "    <tr style=\"text-align: right;\">\n",
       "      <th></th>\n",
       "      <th>DAY_OF_MONTH</th>\n",
       "      <th>DAY_OF_WEEK</th>\n",
       "      <th>OP_CARRIER_AIRLINE_ID</th>\n",
       "      <th>OP_CARRIER_FL_NUM</th>\n",
       "      <th>ORIGIN_AIRPORT_ID</th>\n",
       "      <th>ORIGIN_AIRPORT_SEQ_ID</th>\n",
       "      <th>DEST_AIRPORT_ID</th>\n",
       "      <th>DEST_AIRPORT_SEQ_ID</th>\n",
       "      <th>DEP_TIME</th>\n",
       "      <th>DEP_DEL15</th>\n",
       "      <th>ARR_TIME</th>\n",
       "      <th>ARR_DEL15</th>\n",
       "      <th>CANCELLED</th>\n",
       "      <th>DIVERTED</th>\n",
       "      <th>DISTANCE</th>\n",
       "      <th>Unnamed: 21</th>\n",
       "    </tr>\n",
       "  </thead>\n",
       "  <tbody>\n",
       "    <tr>\n",
       "      <th>count</th>\n",
       "      <td>583985.000000</td>\n",
       "      <td>583985.000000</td>\n",
       "      <td>583985.000000</td>\n",
       "      <td>583985.000000</td>\n",
       "      <td>583985.000000</td>\n",
       "      <td>5.839850e+05</td>\n",
       "      <td>583985.000000</td>\n",
       "      <td>5.839850e+05</td>\n",
       "      <td>567633.000000</td>\n",
       "      <td>567630.000000</td>\n",
       "      <td>566924.000000</td>\n",
       "      <td>565963.000000</td>\n",
       "      <td>583985.000000</td>\n",
       "      <td>583985.000000</td>\n",
       "      <td>583985.000000</td>\n",
       "      <td>0.0</td>\n",
       "    </tr>\n",
       "    <tr>\n",
       "      <th>mean</th>\n",
       "      <td>15.960088</td>\n",
       "      <td>3.835626</td>\n",
       "      <td>19983.213168</td>\n",
       "      <td>2537.869334</td>\n",
       "      <td>12659.701982</td>\n",
       "      <td>1.265974e+06</td>\n",
       "      <td>12659.470015</td>\n",
       "      <td>1.265951e+06</td>\n",
       "      <td>1331.957814</td>\n",
       "      <td>0.174281</td>\n",
       "      <td>1484.315921</td>\n",
       "      <td>0.185917</td>\n",
       "      <td>0.028641</td>\n",
       "      <td>0.002219</td>\n",
       "      <td>797.742767</td>\n",
       "      <td>NaN</td>\n",
       "    </tr>\n",
       "    <tr>\n",
       "      <th>std</th>\n",
       "      <td>8.987942</td>\n",
       "      <td>1.921899</td>\n",
       "      <td>377.724638</td>\n",
       "      <td>1821.736145</td>\n",
       "      <td>1519.405493</td>\n",
       "      <td>1.519403e+05</td>\n",
       "      <td>1519.336466</td>\n",
       "      <td>1.519334e+05</td>\n",
       "      <td>495.404020</td>\n",
       "      <td>0.379351</td>\n",
       "      <td>523.162855</td>\n",
       "      <td>0.389040</td>\n",
       "      <td>0.166796</td>\n",
       "      <td>0.047056</td>\n",
       "      <td>589.999261</td>\n",
       "      <td>NaN</td>\n",
       "    </tr>\n",
       "    <tr>\n",
       "      <th>min</th>\n",
       "      <td>1.000000</td>\n",
       "      <td>1.000000</td>\n",
       "      <td>19393.000000</td>\n",
       "      <td>1.000000</td>\n",
       "      <td>10135.000000</td>\n",
       "      <td>1.013505e+06</td>\n",
       "      <td>10135.000000</td>\n",
       "      <td>1.013505e+06</td>\n",
       "      <td>1.000000</td>\n",
       "      <td>0.000000</td>\n",
       "      <td>1.000000</td>\n",
       "      <td>0.000000</td>\n",
       "      <td>0.000000</td>\n",
       "      <td>0.000000</td>\n",
       "      <td>31.000000</td>\n",
       "      <td>NaN</td>\n",
       "    </tr>\n",
       "    <tr>\n",
       "      <th>25%</th>\n",
       "      <td>8.000000</td>\n",
       "      <td>2.000000</td>\n",
       "      <td>19790.000000</td>\n",
       "      <td>979.000000</td>\n",
       "      <td>11292.000000</td>\n",
       "      <td>1.129202e+06</td>\n",
       "      <td>11292.000000</td>\n",
       "      <td>1.129202e+06</td>\n",
       "      <td>921.000000</td>\n",
       "      <td>0.000000</td>\n",
       "      <td>1104.000000</td>\n",
       "      <td>0.000000</td>\n",
       "      <td>0.000000</td>\n",
       "      <td>0.000000</td>\n",
       "      <td>363.000000</td>\n",
       "      <td>NaN</td>\n",
       "    </tr>\n",
       "    <tr>\n",
       "      <th>50%</th>\n",
       "      <td>16.000000</td>\n",
       "      <td>4.000000</td>\n",
       "      <td>19977.000000</td>\n",
       "      <td>2114.000000</td>\n",
       "      <td>12889.000000</td>\n",
       "      <td>1.288903e+06</td>\n",
       "      <td>12889.000000</td>\n",
       "      <td>1.288903e+06</td>\n",
       "      <td>1328.000000</td>\n",
       "      <td>0.000000</td>\n",
       "      <td>1517.000000</td>\n",
       "      <td>0.000000</td>\n",
       "      <td>0.000000</td>\n",
       "      <td>0.000000</td>\n",
       "      <td>640.000000</td>\n",
       "      <td>NaN</td>\n",
       "    </tr>\n",
       "    <tr>\n",
       "      <th>75%</th>\n",
       "      <td>24.000000</td>\n",
       "      <td>5.000000</td>\n",
       "      <td>20368.000000</td>\n",
       "      <td>3902.000000</td>\n",
       "      <td>13931.000000</td>\n",
       "      <td>1.393102e+06</td>\n",
       "      <td>13931.000000</td>\n",
       "      <td>1.393102e+06</td>\n",
       "      <td>1738.000000</td>\n",
       "      <td>0.000000</td>\n",
       "      <td>1919.000000</td>\n",
       "      <td>0.000000</td>\n",
       "      <td>0.000000</td>\n",
       "      <td>0.000000</td>\n",
       "      <td>1037.000000</td>\n",
       "      <td>NaN</td>\n",
       "    </tr>\n",
       "    <tr>\n",
       "      <th>max</th>\n",
       "      <td>31.000000</td>\n",
       "      <td>7.000000</td>\n",
       "      <td>20452.000000</td>\n",
       "      <td>7439.000000</td>\n",
       "      <td>16218.000000</td>\n",
       "      <td>1.621802e+06</td>\n",
       "      <td>16218.000000</td>\n",
       "      <td>1.621802e+06</td>\n",
       "      <td>2400.000000</td>\n",
       "      <td>1.000000</td>\n",
       "      <td>2400.000000</td>\n",
       "      <td>1.000000</td>\n",
       "      <td>1.000000</td>\n",
       "      <td>1.000000</td>\n",
       "      <td>4983.000000</td>\n",
       "      <td>NaN</td>\n",
       "    </tr>\n",
       "  </tbody>\n",
       "</table>\n",
       "</div>"
      ],
      "text/plain": [
       "        DAY_OF_MONTH    DAY_OF_WEEK  OP_CARRIER_AIRLINE_ID  OP_CARRIER_FL_NUM  \\\n",
       "count  583985.000000  583985.000000          583985.000000      583985.000000   \n",
       "mean       15.960088       3.835626           19983.213168        2537.869334   \n",
       "std         8.987942       1.921899             377.724638        1821.736145   \n",
       "min         1.000000       1.000000           19393.000000           1.000000   \n",
       "25%         8.000000       2.000000           19790.000000         979.000000   \n",
       "50%        16.000000       4.000000           19977.000000        2114.000000   \n",
       "75%        24.000000       5.000000           20368.000000        3902.000000   \n",
       "max        31.000000       7.000000           20452.000000        7439.000000   \n",
       "\n",
       "       ORIGIN_AIRPORT_ID  ORIGIN_AIRPORT_SEQ_ID  DEST_AIRPORT_ID  \\\n",
       "count      583985.000000           5.839850e+05    583985.000000   \n",
       "mean        12659.701982           1.265974e+06     12659.470015   \n",
       "std          1519.405493           1.519403e+05      1519.336466   \n",
       "min         10135.000000           1.013505e+06     10135.000000   \n",
       "25%         11292.000000           1.129202e+06     11292.000000   \n",
       "50%         12889.000000           1.288903e+06     12889.000000   \n",
       "75%         13931.000000           1.393102e+06     13931.000000   \n",
       "max         16218.000000           1.621802e+06     16218.000000   \n",
       "\n",
       "       DEST_AIRPORT_SEQ_ID       DEP_TIME      DEP_DEL15       ARR_TIME  \\\n",
       "count         5.839850e+05  567633.000000  567630.000000  566924.000000   \n",
       "mean          1.265951e+06    1331.957814       0.174281    1484.315921   \n",
       "std           1.519334e+05     495.404020       0.379351     523.162855   \n",
       "min           1.013505e+06       1.000000       0.000000       1.000000   \n",
       "25%           1.129202e+06     921.000000       0.000000    1104.000000   \n",
       "50%           1.288903e+06    1328.000000       0.000000    1517.000000   \n",
       "75%           1.393102e+06    1738.000000       0.000000    1919.000000   \n",
       "max           1.621802e+06    2400.000000       1.000000    2400.000000   \n",
       "\n",
       "           ARR_DEL15      CANCELLED       DIVERTED       DISTANCE  Unnamed: 21  \n",
       "count  565963.000000  583985.000000  583985.000000  583985.000000          0.0  \n",
       "mean        0.185917       0.028641       0.002219     797.742767          NaN  \n",
       "std         0.389040       0.166796       0.047056     589.999261          NaN  \n",
       "min         0.000000       0.000000       0.000000      31.000000          NaN  \n",
       "25%         0.000000       0.000000       0.000000     363.000000          NaN  \n",
       "50%         0.000000       0.000000       0.000000     640.000000          NaN  \n",
       "75%         0.000000       0.000000       0.000000    1037.000000          NaN  \n",
       "max         1.000000       1.000000       1.000000    4983.000000          NaN  "
      ]
     },
     "execution_count": 7,
     "metadata": {},
     "output_type": "execute_result"
    }
   ],
   "source": [
    "data.describe()"
   ]
  },
  {
   "cell_type": "code",
   "execution_count": 8,
   "id": "bfd77867",
   "metadata": {},
   "outputs": [
    {
     "name": "stdout",
     "output_type": "stream",
     "text": [
      "<class 'pandas.core.frame.DataFrame'>\n",
      "RangeIndex: 583985 entries, 0 to 583984\n",
      "Data columns (total 22 columns):\n",
      " #   Column                 Non-Null Count   Dtype  \n",
      "---  ------                 --------------   -----  \n",
      " 0   DAY_OF_MONTH           583985 non-null  int64  \n",
      " 1   DAY_OF_WEEK            583985 non-null  int64  \n",
      " 2   OP_UNIQUE_CARRIER      583985 non-null  object \n",
      " 3   OP_CARRIER_AIRLINE_ID  583985 non-null  int64  \n",
      " 4   OP_CARRIER             583985 non-null  object \n",
      " 5   TAIL_NUM               581442 non-null  object \n",
      " 6   OP_CARRIER_FL_NUM      583985 non-null  int64  \n",
      " 7   ORIGIN_AIRPORT_ID      583985 non-null  int64  \n",
      " 8   ORIGIN_AIRPORT_SEQ_ID  583985 non-null  int64  \n",
      " 9   ORIGIN                 583985 non-null  object \n",
      " 10  DEST_AIRPORT_ID        583985 non-null  int64  \n",
      " 11  DEST_AIRPORT_SEQ_ID    583985 non-null  int64  \n",
      " 12  DEST                   583985 non-null  object \n",
      " 13  DEP_TIME               567633 non-null  float64\n",
      " 14  DEP_DEL15              567630 non-null  float64\n",
      " 15  DEP_TIME_BLK           583985 non-null  object \n",
      " 16  ARR_TIME               566924 non-null  float64\n",
      " 17  ARR_DEL15              565963 non-null  float64\n",
      " 18  CANCELLED              583985 non-null  float64\n",
      " 19  DIVERTED               583985 non-null  float64\n",
      " 20  DISTANCE               583985 non-null  float64\n",
      " 21  Unnamed: 21            0 non-null       float64\n",
      "dtypes: float64(8), int64(8), object(6)\n",
      "memory usage: 98.0+ MB\n"
     ]
    }
   ],
   "source": [
    "data.info()"
   ]
  },
  {
   "cell_type": "code",
   "execution_count": 44,
   "id": "80d21759",
   "metadata": {},
   "outputs": [
    {
     "data": {
      "text/html": [
       "<div>\n",
       "<style scoped>\n",
       "    .dataframe tbody tr th:only-of-type {\n",
       "        vertical-align: middle;\n",
       "    }\n",
       "\n",
       "    .dataframe tbody tr th {\n",
       "        vertical-align: top;\n",
       "    }\n",
       "\n",
       "    .dataframe thead th {\n",
       "        text-align: right;\n",
       "    }\n",
       "</style>\n",
       "<table border=\"1\" class=\"dataframe\">\n",
       "  <thead>\n",
       "    <tr style=\"text-align: right;\">\n",
       "      <th></th>\n",
       "      <th>DAY_OF_MONTH</th>\n",
       "      <th>DAY_OF_WEEK</th>\n",
       "      <th>OP_UNIQUE_CARRIER</th>\n",
       "      <th>OP_CARRIER_AIRLINE_ID</th>\n",
       "      <th>OP_CARRIER</th>\n",
       "      <th>TAIL_NUM</th>\n",
       "      <th>OP_CARRIER_FL_NUM</th>\n",
       "      <th>ORIGIN_AIRPORT_ID</th>\n",
       "      <th>ORIGIN_AIRPORT_SEQ_ID</th>\n",
       "      <th>ORIGIN</th>\n",
       "      <th>...</th>\n",
       "      <th>DEST</th>\n",
       "      <th>DEP_TIME</th>\n",
       "      <th>DEP_DEL15</th>\n",
       "      <th>DEP_TIME_BLK</th>\n",
       "      <th>ARR_TIME</th>\n",
       "      <th>ARR_DEL15</th>\n",
       "      <th>CANCELLED</th>\n",
       "      <th>DIVERTED</th>\n",
       "      <th>DISTANCE</th>\n",
       "      <th>Unnamed: 21</th>\n",
       "    </tr>\n",
       "  </thead>\n",
       "  <tbody>\n",
       "    <tr>\n",
       "      <th>0</th>\n",
       "      <td>False</td>\n",
       "      <td>False</td>\n",
       "      <td>False</td>\n",
       "      <td>False</td>\n",
       "      <td>False</td>\n",
       "      <td>False</td>\n",
       "      <td>False</td>\n",
       "      <td>False</td>\n",
       "      <td>False</td>\n",
       "      <td>False</td>\n",
       "      <td>...</td>\n",
       "      <td>False</td>\n",
       "      <td>False</td>\n",
       "      <td>False</td>\n",
       "      <td>False</td>\n",
       "      <td>False</td>\n",
       "      <td>False</td>\n",
       "      <td>False</td>\n",
       "      <td>False</td>\n",
       "      <td>False</td>\n",
       "      <td>True</td>\n",
       "    </tr>\n",
       "    <tr>\n",
       "      <th>1</th>\n",
       "      <td>False</td>\n",
       "      <td>False</td>\n",
       "      <td>False</td>\n",
       "      <td>False</td>\n",
       "      <td>False</td>\n",
       "      <td>False</td>\n",
       "      <td>False</td>\n",
       "      <td>False</td>\n",
       "      <td>False</td>\n",
       "      <td>False</td>\n",
       "      <td>...</td>\n",
       "      <td>False</td>\n",
       "      <td>False</td>\n",
       "      <td>False</td>\n",
       "      <td>False</td>\n",
       "      <td>False</td>\n",
       "      <td>False</td>\n",
       "      <td>False</td>\n",
       "      <td>False</td>\n",
       "      <td>False</td>\n",
       "      <td>True</td>\n",
       "    </tr>\n",
       "    <tr>\n",
       "      <th>2</th>\n",
       "      <td>False</td>\n",
       "      <td>False</td>\n",
       "      <td>False</td>\n",
       "      <td>False</td>\n",
       "      <td>False</td>\n",
       "      <td>False</td>\n",
       "      <td>False</td>\n",
       "      <td>False</td>\n",
       "      <td>False</td>\n",
       "      <td>False</td>\n",
       "      <td>...</td>\n",
       "      <td>False</td>\n",
       "      <td>False</td>\n",
       "      <td>False</td>\n",
       "      <td>False</td>\n",
       "      <td>False</td>\n",
       "      <td>False</td>\n",
       "      <td>False</td>\n",
       "      <td>False</td>\n",
       "      <td>False</td>\n",
       "      <td>True</td>\n",
       "    </tr>\n",
       "    <tr>\n",
       "      <th>3</th>\n",
       "      <td>False</td>\n",
       "      <td>False</td>\n",
       "      <td>False</td>\n",
       "      <td>False</td>\n",
       "      <td>False</td>\n",
       "      <td>False</td>\n",
       "      <td>False</td>\n",
       "      <td>False</td>\n",
       "      <td>False</td>\n",
       "      <td>False</td>\n",
       "      <td>...</td>\n",
       "      <td>False</td>\n",
       "      <td>False</td>\n",
       "      <td>False</td>\n",
       "      <td>False</td>\n",
       "      <td>False</td>\n",
       "      <td>False</td>\n",
       "      <td>False</td>\n",
       "      <td>False</td>\n",
       "      <td>False</td>\n",
       "      <td>True</td>\n",
       "    </tr>\n",
       "    <tr>\n",
       "      <th>4</th>\n",
       "      <td>False</td>\n",
       "      <td>False</td>\n",
       "      <td>False</td>\n",
       "      <td>False</td>\n",
       "      <td>False</td>\n",
       "      <td>False</td>\n",
       "      <td>False</td>\n",
       "      <td>False</td>\n",
       "      <td>False</td>\n",
       "      <td>False</td>\n",
       "      <td>...</td>\n",
       "      <td>False</td>\n",
       "      <td>False</td>\n",
       "      <td>False</td>\n",
       "      <td>False</td>\n",
       "      <td>False</td>\n",
       "      <td>False</td>\n",
       "      <td>False</td>\n",
       "      <td>False</td>\n",
       "      <td>False</td>\n",
       "      <td>True</td>\n",
       "    </tr>\n",
       "    <tr>\n",
       "      <th>...</th>\n",
       "      <td>...</td>\n",
       "      <td>...</td>\n",
       "      <td>...</td>\n",
       "      <td>...</td>\n",
       "      <td>...</td>\n",
       "      <td>...</td>\n",
       "      <td>...</td>\n",
       "      <td>...</td>\n",
       "      <td>...</td>\n",
       "      <td>...</td>\n",
       "      <td>...</td>\n",
       "      <td>...</td>\n",
       "      <td>...</td>\n",
       "      <td>...</td>\n",
       "      <td>...</td>\n",
       "      <td>...</td>\n",
       "      <td>...</td>\n",
       "      <td>...</td>\n",
       "      <td>...</td>\n",
       "      <td>...</td>\n",
       "      <td>...</td>\n",
       "    </tr>\n",
       "    <tr>\n",
       "      <th>583980</th>\n",
       "      <td>False</td>\n",
       "      <td>False</td>\n",
       "      <td>False</td>\n",
       "      <td>False</td>\n",
       "      <td>False</td>\n",
       "      <td>False</td>\n",
       "      <td>False</td>\n",
       "      <td>False</td>\n",
       "      <td>False</td>\n",
       "      <td>False</td>\n",
       "      <td>...</td>\n",
       "      <td>False</td>\n",
       "      <td>False</td>\n",
       "      <td>False</td>\n",
       "      <td>False</td>\n",
       "      <td>False</td>\n",
       "      <td>False</td>\n",
       "      <td>False</td>\n",
       "      <td>False</td>\n",
       "      <td>False</td>\n",
       "      <td>True</td>\n",
       "    </tr>\n",
       "    <tr>\n",
       "      <th>583981</th>\n",
       "      <td>False</td>\n",
       "      <td>False</td>\n",
       "      <td>False</td>\n",
       "      <td>False</td>\n",
       "      <td>False</td>\n",
       "      <td>False</td>\n",
       "      <td>False</td>\n",
       "      <td>False</td>\n",
       "      <td>False</td>\n",
       "      <td>False</td>\n",
       "      <td>...</td>\n",
       "      <td>False</td>\n",
       "      <td>False</td>\n",
       "      <td>False</td>\n",
       "      <td>False</td>\n",
       "      <td>False</td>\n",
       "      <td>False</td>\n",
       "      <td>False</td>\n",
       "      <td>False</td>\n",
       "      <td>False</td>\n",
       "      <td>True</td>\n",
       "    </tr>\n",
       "    <tr>\n",
       "      <th>583982</th>\n",
       "      <td>False</td>\n",
       "      <td>False</td>\n",
       "      <td>False</td>\n",
       "      <td>False</td>\n",
       "      <td>False</td>\n",
       "      <td>False</td>\n",
       "      <td>False</td>\n",
       "      <td>False</td>\n",
       "      <td>False</td>\n",
       "      <td>False</td>\n",
       "      <td>...</td>\n",
       "      <td>False</td>\n",
       "      <td>False</td>\n",
       "      <td>False</td>\n",
       "      <td>False</td>\n",
       "      <td>False</td>\n",
       "      <td>False</td>\n",
       "      <td>False</td>\n",
       "      <td>False</td>\n",
       "      <td>False</td>\n",
       "      <td>True</td>\n",
       "    </tr>\n",
       "    <tr>\n",
       "      <th>583983</th>\n",
       "      <td>False</td>\n",
       "      <td>False</td>\n",
       "      <td>False</td>\n",
       "      <td>False</td>\n",
       "      <td>False</td>\n",
       "      <td>False</td>\n",
       "      <td>False</td>\n",
       "      <td>False</td>\n",
       "      <td>False</td>\n",
       "      <td>False</td>\n",
       "      <td>...</td>\n",
       "      <td>False</td>\n",
       "      <td>False</td>\n",
       "      <td>False</td>\n",
       "      <td>False</td>\n",
       "      <td>False</td>\n",
       "      <td>False</td>\n",
       "      <td>False</td>\n",
       "      <td>False</td>\n",
       "      <td>False</td>\n",
       "      <td>True</td>\n",
       "    </tr>\n",
       "    <tr>\n",
       "      <th>583984</th>\n",
       "      <td>False</td>\n",
       "      <td>False</td>\n",
       "      <td>False</td>\n",
       "      <td>False</td>\n",
       "      <td>False</td>\n",
       "      <td>False</td>\n",
       "      <td>False</td>\n",
       "      <td>False</td>\n",
       "      <td>False</td>\n",
       "      <td>False</td>\n",
       "      <td>...</td>\n",
       "      <td>False</td>\n",
       "      <td>False</td>\n",
       "      <td>False</td>\n",
       "      <td>False</td>\n",
       "      <td>False</td>\n",
       "      <td>False</td>\n",
       "      <td>False</td>\n",
       "      <td>False</td>\n",
       "      <td>False</td>\n",
       "      <td>True</td>\n",
       "    </tr>\n",
       "  </tbody>\n",
       "</table>\n",
       "<p>583985 rows × 22 columns</p>\n",
       "</div>"
      ],
      "text/plain": [
       "        DAY_OF_MONTH  DAY_OF_WEEK  OP_UNIQUE_CARRIER  OP_CARRIER_AIRLINE_ID  \\\n",
       "0              False        False              False                  False   \n",
       "1              False        False              False                  False   \n",
       "2              False        False              False                  False   \n",
       "3              False        False              False                  False   \n",
       "4              False        False              False                  False   \n",
       "...              ...          ...                ...                    ...   \n",
       "583980         False        False              False                  False   \n",
       "583981         False        False              False                  False   \n",
       "583982         False        False              False                  False   \n",
       "583983         False        False              False                  False   \n",
       "583984         False        False              False                  False   \n",
       "\n",
       "        OP_CARRIER  TAIL_NUM  OP_CARRIER_FL_NUM  ORIGIN_AIRPORT_ID  \\\n",
       "0            False     False              False              False   \n",
       "1            False     False              False              False   \n",
       "2            False     False              False              False   \n",
       "3            False     False              False              False   \n",
       "4            False     False              False              False   \n",
       "...            ...       ...                ...                ...   \n",
       "583980       False     False              False              False   \n",
       "583981       False     False              False              False   \n",
       "583982       False     False              False              False   \n",
       "583983       False     False              False              False   \n",
       "583984       False     False              False              False   \n",
       "\n",
       "        ORIGIN_AIRPORT_SEQ_ID  ORIGIN  ...   DEST  DEP_TIME  DEP_DEL15  \\\n",
       "0                       False   False  ...  False     False      False   \n",
       "1                       False   False  ...  False     False      False   \n",
       "2                       False   False  ...  False     False      False   \n",
       "3                       False   False  ...  False     False      False   \n",
       "4                       False   False  ...  False     False      False   \n",
       "...                       ...     ...  ...    ...       ...        ...   \n",
       "583980                  False   False  ...  False     False      False   \n",
       "583981                  False   False  ...  False     False      False   \n",
       "583982                  False   False  ...  False     False      False   \n",
       "583983                  False   False  ...  False     False      False   \n",
       "583984                  False   False  ...  False     False      False   \n",
       "\n",
       "        DEP_TIME_BLK  ARR_TIME  ARR_DEL15  CANCELLED  DIVERTED  DISTANCE  \\\n",
       "0              False     False      False      False     False     False   \n",
       "1              False     False      False      False     False     False   \n",
       "2              False     False      False      False     False     False   \n",
       "3              False     False      False      False     False     False   \n",
       "4              False     False      False      False     False     False   \n",
       "...              ...       ...        ...        ...       ...       ...   \n",
       "583980         False     False      False      False     False     False   \n",
       "583981         False     False      False      False     False     False   \n",
       "583982         False     False      False      False     False     False   \n",
       "583983         False     False      False      False     False     False   \n",
       "583984         False     False      False      False     False     False   \n",
       "\n",
       "        Unnamed: 21  \n",
       "0              True  \n",
       "1              True  \n",
       "2              True  \n",
       "3              True  \n",
       "4              True  \n",
       "...             ...  \n",
       "583980         True  \n",
       "583981         True  \n",
       "583982         True  \n",
       "583983         True  \n",
       "583984         True  \n",
       "\n",
       "[583985 rows x 22 columns]"
      ]
     },
     "execution_count": 44,
     "metadata": {},
     "output_type": "execute_result"
    }
   ],
   "source": [
    "data.isnull()"
   ]
  },
  {
   "cell_type": "code",
   "execution_count": 43,
   "id": "b46d85eb",
   "metadata": {},
   "outputs": [
    {
     "data": {
      "text/plain": [
       "DAY_OF_MONTH                  0\n",
       "DAY_OF_WEEK                   0\n",
       "OP_UNIQUE_CARRIER             0\n",
       "OP_CARRIER_AIRLINE_ID         0\n",
       "OP_CARRIER                    0\n",
       "TAIL_NUM                   2543\n",
       "OP_CARRIER_FL_NUM             0\n",
       "ORIGIN_AIRPORT_ID             0\n",
       "ORIGIN_AIRPORT_SEQ_ID         0\n",
       "ORIGIN                        0\n",
       "DEST_AIRPORT_ID               0\n",
       "DEST_AIRPORT_SEQ_ID           0\n",
       "DEST                          0\n",
       "DEP_TIME                  16352\n",
       "DEP_DEL15                 16355\n",
       "DEP_TIME_BLK                  0\n",
       "ARR_TIME                  17061\n",
       "ARR_DEL15                 18022\n",
       "CANCELLED                     0\n",
       "DIVERTED                      0\n",
       "DISTANCE                      0\n",
       "Unnamed: 21              583985\n",
       "dtype: int64"
      ]
     },
     "execution_count": 43,
     "metadata": {},
     "output_type": "execute_result"
    }
   ],
   "source": [
    "data.isnull().sum()"
   ]
  },
  {
   "cell_type": "markdown",
   "id": "f30a7bfd",
   "metadata": {},
   "source": [
    "**I will apply the mode value in all the labels just to check out what are the most commum observation in each of them**"
   ]
  },
  {
   "cell_type": "code",
   "execution_count": 11,
   "id": "8faccb0f",
   "metadata": {},
   "outputs": [
    {
     "data": {
      "text/html": [
       "<div>\n",
       "<style scoped>\n",
       "    .dataframe tbody tr th:only-of-type {\n",
       "        vertical-align: middle;\n",
       "    }\n",
       "\n",
       "    .dataframe tbody tr th {\n",
       "        vertical-align: top;\n",
       "    }\n",
       "\n",
       "    .dataframe thead th {\n",
       "        text-align: right;\n",
       "    }\n",
       "</style>\n",
       "<table border=\"1\" class=\"dataframe\">\n",
       "  <thead>\n",
       "    <tr style=\"text-align: right;\">\n",
       "      <th></th>\n",
       "      <th>DAY_OF_MONTH</th>\n",
       "      <th>DAY_OF_WEEK</th>\n",
       "      <th>OP_UNIQUE_CARRIER</th>\n",
       "      <th>OP_CARRIER_AIRLINE_ID</th>\n",
       "      <th>OP_CARRIER</th>\n",
       "      <th>TAIL_NUM</th>\n",
       "      <th>OP_CARRIER_FL_NUM</th>\n",
       "      <th>ORIGIN_AIRPORT_ID</th>\n",
       "      <th>ORIGIN_AIRPORT_SEQ_ID</th>\n",
       "      <th>ORIGIN</th>\n",
       "      <th>...</th>\n",
       "      <th>DEST</th>\n",
       "      <th>DEP_TIME</th>\n",
       "      <th>DEP_DEL15</th>\n",
       "      <th>DEP_TIME_BLK</th>\n",
       "      <th>ARR_TIME</th>\n",
       "      <th>ARR_DEL15</th>\n",
       "      <th>CANCELLED</th>\n",
       "      <th>DIVERTED</th>\n",
       "      <th>DISTANCE</th>\n",
       "      <th>Unnamed: 21</th>\n",
       "    </tr>\n",
       "  </thead>\n",
       "  <tbody>\n",
       "    <tr>\n",
       "      <th>0</th>\n",
       "      <td>2</td>\n",
       "      <td>4</td>\n",
       "      <td>WN</td>\n",
       "      <td>19393</td>\n",
       "      <td>WN</td>\n",
       "      <td>N488HA</td>\n",
       "      <td>403</td>\n",
       "      <td>10397</td>\n",
       "      <td>1039707</td>\n",
       "      <td>ATL</td>\n",
       "      <td>...</td>\n",
       "      <td>ATL</td>\n",
       "      <td>555.0</td>\n",
       "      <td>0.0</td>\n",
       "      <td>0600-0659</td>\n",
       "      <td>1645.0</td>\n",
       "      <td>0.0</td>\n",
       "      <td>0.0</td>\n",
       "      <td>0.0</td>\n",
       "      <td>337.0</td>\n",
       "      <td>NaN</td>\n",
       "    </tr>\n",
       "  </tbody>\n",
       "</table>\n",
       "<p>1 rows × 22 columns</p>\n",
       "</div>"
      ],
      "text/plain": [
       "   DAY_OF_MONTH  DAY_OF_WEEK OP_UNIQUE_CARRIER  OP_CARRIER_AIRLINE_ID  \\\n",
       "0             2            4                WN                  19393   \n",
       "\n",
       "  OP_CARRIER TAIL_NUM  OP_CARRIER_FL_NUM  ORIGIN_AIRPORT_ID  \\\n",
       "0         WN   N488HA                403              10397   \n",
       "\n",
       "   ORIGIN_AIRPORT_SEQ_ID ORIGIN  ...  DEST  DEP_TIME DEP_DEL15  DEP_TIME_BLK  \\\n",
       "0                1039707    ATL  ...   ATL     555.0       0.0     0600-0659   \n",
       "\n",
       "   ARR_TIME ARR_DEL15  CANCELLED  DIVERTED  DISTANCE  Unnamed: 21  \n",
       "0    1645.0       0.0        0.0       0.0     337.0          NaN  \n",
       "\n",
       "[1 rows x 22 columns]"
      ]
     },
     "execution_count": 11,
     "metadata": {},
     "output_type": "execute_result"
    }
   ],
   "source": [
    "data.mode()"
   ]
  },
  {
   "cell_type": "markdown",
   "id": "aff4787c",
   "metadata": {},
   "source": [
    "**We can see for instance, the busiest day of the week is wednesday, and the busiest day of the moth is the second.**"
   ]
  },
  {
   "cell_type": "code",
   "execution_count": 13,
   "id": "d175f143",
   "metadata": {},
   "outputs": [
    {
     "data": {
      "text/plain": [
       "<AxesSubplot:>"
      ]
     },
     "execution_count": 13,
     "metadata": {},
     "output_type": "execute_result"
    },
    {
     "data": {
      "image/png": "[encoded data removed]",
      "text/plain": [
       "<Figure size 432x288 with 1 Axes>"
      ]
     },
     "metadata": {
      "needs_background": "light"
     },
     "output_type": "display_data"
    }
   ],
   "source": [
    "data[\"DAY_OF_MONTH\"].hist()"
   ]
  },
  {
   "cell_type": "code",
   "execution_count": 20,
   "id": "d37d88ab",
   "metadata": {},
   "outputs": [
    {
     "data": {
      "text/plain": [
       "<AxesSubplot:>"
      ]
     },
     "execution_count": 20,
     "metadata": {},
     "output_type": "execute_result"
    },
    {
     "data": {
      "image/png": "[encoded data removed]",
      "text/plain": [
       "<Figure size 432x288 with 1 Axes>"
      ]
     },
     "metadata": {
      "needs_background": "light"
     },
     "output_type": "display_data"
    }
   ],
   "source": [
    "data[\"DISTANCE\"].hist()"
   ]
  },
  {
   "cell_type": "code",
   "execution_count": 22,
   "id": "f875c2c4",
   "metadata": {},
   "outputs": [
    {
     "data": {
      "text/plain": [
       "count    583985.000000\n",
       "mean        797.742767\n",
       "std         589.999261\n",
       "min          31.000000\n",
       "25%         363.000000\n",
       "50%         640.000000\n",
       "75%        1037.000000\n",
       "max        4983.000000\n",
       "Name: DISTANCE, dtype: float64"
      ]
     },
     "execution_count": 22,
     "metadata": {},
     "output_type": "execute_result"
    }
   ],
   "source": [
    "data[\"DISTANCE\"].describe()"
   ]
  },
  {
   "cell_type": "markdown",
   "id": "0a48afe9",
   "metadata": {},
   "source": [
    "**Applying the descriptive statistics on all the variables**"
   ]
  },
  {
   "cell_type": "code",
   "execution_count": 23,
   "id": "431f6e8e",
   "metadata": {},
   "outputs": [
    {
     "data": {
      "text/html": [
       "<div>\n",
       "<style scoped>\n",
       "    .dataframe tbody tr th:only-of-type {\n",
       "        vertical-align: middle;\n",
       "    }\n",
       "\n",
       "    .dataframe tbody tr th {\n",
       "        vertical-align: top;\n",
       "    }\n",
       "\n",
       "    .dataframe thead th {\n",
       "        text-align: right;\n",
       "    }\n",
       "</style>\n",
       "<table border=\"1\" class=\"dataframe\">\n",
       "  <thead>\n",
       "    <tr style=\"text-align: right;\">\n",
       "      <th></th>\n",
       "      <th>DAY_OF_MONTH</th>\n",
       "      <th>DAY_OF_WEEK</th>\n",
       "      <th>OP_CARRIER_AIRLINE_ID</th>\n",
       "      <th>OP_CARRIER_FL_NUM</th>\n",
       "      <th>ORIGIN_AIRPORT_ID</th>\n",
       "      <th>ORIGIN_AIRPORT_SEQ_ID</th>\n",
       "      <th>DEST_AIRPORT_ID</th>\n",
       "      <th>DEST_AIRPORT_SEQ_ID</th>\n",
       "      <th>DEP_TIME</th>\n",
       "      <th>DEP_DEL15</th>\n",
       "      <th>ARR_TIME</th>\n",
       "      <th>ARR_DEL15</th>\n",
       "      <th>CANCELLED</th>\n",
       "      <th>DIVERTED</th>\n",
       "      <th>DISTANCE</th>\n",
       "      <th>Unnamed: 21</th>\n",
       "    </tr>\n",
       "  </thead>\n",
       "  <tbody>\n",
       "    <tr>\n",
       "      <th>count</th>\n",
       "      <td>583985.000000</td>\n",
       "      <td>583985.000000</td>\n",
       "      <td>583985.000000</td>\n",
       "      <td>583985.000000</td>\n",
       "      <td>583985.000000</td>\n",
       "      <td>5.839850e+05</td>\n",
       "      <td>583985.000000</td>\n",
       "      <td>5.839850e+05</td>\n",
       "      <td>567633.000000</td>\n",
       "      <td>567630.000000</td>\n",
       "      <td>566924.000000</td>\n",
       "      <td>565963.000000</td>\n",
       "      <td>583985.000000</td>\n",
       "      <td>583985.000000</td>\n",
       "      <td>583985.000000</td>\n",
       "      <td>0.0</td>\n",
       "    </tr>\n",
       "    <tr>\n",
       "      <th>mean</th>\n",
       "      <td>15.960088</td>\n",
       "      <td>3.835626</td>\n",
       "      <td>19983.213168</td>\n",
       "      <td>2537.869334</td>\n",
       "      <td>12659.701982</td>\n",
       "      <td>1.265974e+06</td>\n",
       "      <td>12659.470015</td>\n",
       "      <td>1.265951e+06</td>\n",
       "      <td>1331.957814</td>\n",
       "      <td>0.174281</td>\n",
       "      <td>1484.315921</td>\n",
       "      <td>0.185917</td>\n",
       "      <td>0.028641</td>\n",
       "      <td>0.002219</td>\n",
       "      <td>797.742767</td>\n",
       "      <td>NaN</td>\n",
       "    </tr>\n",
       "    <tr>\n",
       "      <th>std</th>\n",
       "      <td>8.987942</td>\n",
       "      <td>1.921899</td>\n",
       "      <td>377.724638</td>\n",
       "      <td>1821.736145</td>\n",
       "      <td>1519.405493</td>\n",
       "      <td>1.519403e+05</td>\n",
       "      <td>1519.336466</td>\n",
       "      <td>1.519334e+05</td>\n",
       "      <td>495.404020</td>\n",
       "      <td>0.379351</td>\n",
       "      <td>523.162855</td>\n",
       "      <td>0.389040</td>\n",
       "      <td>0.166796</td>\n",
       "      <td>0.047056</td>\n",
       "      <td>589.999261</td>\n",
       "      <td>NaN</td>\n",
       "    </tr>\n",
       "    <tr>\n",
       "      <th>min</th>\n",
       "      <td>1.000000</td>\n",
       "      <td>1.000000</td>\n",
       "      <td>19393.000000</td>\n",
       "      <td>1.000000</td>\n",
       "      <td>10135.000000</td>\n",
       "      <td>1.013505e+06</td>\n",
       "      <td>10135.000000</td>\n",
       "      <td>1.013505e+06</td>\n",
       "      <td>1.000000</td>\n",
       "      <td>0.000000</td>\n",
       "      <td>1.000000</td>\n",
       "      <td>0.000000</td>\n",
       "      <td>0.000000</td>\n",
       "      <td>0.000000</td>\n",
       "      <td>31.000000</td>\n",
       "      <td>NaN</td>\n",
       "    </tr>\n",
       "    <tr>\n",
       "      <th>25%</th>\n",
       "      <td>8.000000</td>\n",
       "      <td>2.000000</td>\n",
       "      <td>19790.000000</td>\n",
       "      <td>979.000000</td>\n",
       "      <td>11292.000000</td>\n",
       "      <td>1.129202e+06</td>\n",
       "      <td>11292.000000</td>\n",
       "      <td>1.129202e+06</td>\n",
       "      <td>921.000000</td>\n",
       "      <td>0.000000</td>\n",
       "      <td>1104.000000</td>\n",
       "      <td>0.000000</td>\n",
       "      <td>0.000000</td>\n",
       "      <td>0.000000</td>\n",
       "      <td>363.000000</td>\n",
       "      <td>NaN</td>\n",
       "    </tr>\n",
       "    <tr>\n",
       "      <th>50%</th>\n",
       "      <td>16.000000</td>\n",
       "      <td>4.000000</td>\n",
       "      <td>19977.000000</td>\n",
       "      <td>2114.000000</td>\n",
       "      <td>12889.000000</td>\n",
       "      <td>1.288903e+06</td>\n",
       "      <td>12889.000000</td>\n",
       "      <td>1.288903e+06</td>\n",
       "      <td>1328.000000</td>\n",
       "      <td>0.000000</td>\n",
       "      <td>1517.000000</td>\n",
       "      <td>0.000000</td>\n",
       "      <td>0.000000</td>\n",
       "      <td>0.000000</td>\n",
       "      <td>640.000000</td>\n",
       "      <td>NaN</td>\n",
       "    </tr>\n",
       "    <tr>\n",
       "      <th>75%</th>\n",
       "      <td>24.000000</td>\n",
       "      <td>5.000000</td>\n",
       "      <td>20368.000000</td>\n",
       "      <td>3902.000000</td>\n",
       "      <td>13931.000000</td>\n",
       "      <td>1.393102e+06</td>\n",
       "      <td>13931.000000</td>\n",
       "      <td>1.393102e+06</td>\n",
       "      <td>1738.000000</td>\n",
       "      <td>0.000000</td>\n",
       "      <td>1919.000000</td>\n",
       "      <td>0.000000</td>\n",
       "      <td>0.000000</td>\n",
       "      <td>0.000000</td>\n",
       "      <td>1037.000000</td>\n",
       "      <td>NaN</td>\n",
       "    </tr>\n",
       "    <tr>\n",
       "      <th>max</th>\n",
       "      <td>31.000000</td>\n",
       "      <td>7.000000</td>\n",
       "      <td>20452.000000</td>\n",
       "      <td>7439.000000</td>\n",
       "      <td>16218.000000</td>\n",
       "      <td>1.621802e+06</td>\n",
       "      <td>16218.000000</td>\n",
       "      <td>1.621802e+06</td>\n",
       "      <td>2400.000000</td>\n",
       "      <td>1.000000</td>\n",
       "      <td>2400.000000</td>\n",
       "      <td>1.000000</td>\n",
       "      <td>1.000000</td>\n",
       "      <td>1.000000</td>\n",
       "      <td>4983.000000</td>\n",
       "      <td>NaN</td>\n",
       "    </tr>\n",
       "  </tbody>\n",
       "</table>\n",
       "</div>"
      ],
      "text/plain": [
       "        DAY_OF_MONTH    DAY_OF_WEEK  OP_CARRIER_AIRLINE_ID  OP_CARRIER_FL_NUM  \\\n",
       "count  583985.000000  583985.000000          583985.000000      583985.000000   \n",
       "mean       15.960088       3.835626           19983.213168        2537.869334   \n",
       "std         8.987942       1.921899             377.724638        1821.736145   \n",
       "min         1.000000       1.000000           19393.000000           1.000000   \n",
       "25%         8.000000       2.000000           19790.000000         979.000000   \n",
       "50%        16.000000       4.000000           19977.000000        2114.000000   \n",
       "75%        24.000000       5.000000           20368.000000        3902.000000   \n",
       "max        31.000000       7.000000           20452.000000        7439.000000   \n",
       "\n",
       "       ORIGIN_AIRPORT_ID  ORIGIN_AIRPORT_SEQ_ID  DEST_AIRPORT_ID  \\\n",
       "count      583985.000000           5.839850e+05    583985.000000   \n",
       "mean        12659.701982           1.265974e+06     12659.470015   \n",
       "std          1519.405493           1.519403e+05      1519.336466   \n",
       "min         10135.000000           1.013505e+06     10135.000000   \n",
       "25%         11292.000000           1.129202e+06     11292.000000   \n",
       "50%         12889.000000           1.288903e+06     12889.000000   \n",
       "75%         13931.000000           1.393102e+06     13931.000000   \n",
       "max         16218.000000           1.621802e+06     16218.000000   \n",
       "\n",
       "       DEST_AIRPORT_SEQ_ID       DEP_TIME      DEP_DEL15       ARR_TIME  \\\n",
       "count         5.839850e+05  567633.000000  567630.000000  566924.000000   \n",
       "mean          1.265951e+06    1331.957814       0.174281    1484.315921   \n",
       "std           1.519334e+05     495.404020       0.379351     523.162855   \n",
       "min           1.013505e+06       1.000000       0.000000       1.000000   \n",
       "25%           1.129202e+06     921.000000       0.000000    1104.000000   \n",
       "50%           1.288903e+06    1328.000000       0.000000    1517.000000   \n",
       "75%           1.393102e+06    1738.000000       0.000000    1919.000000   \n",
       "max           1.621802e+06    2400.000000       1.000000    2400.000000   \n",
       "\n",
       "           ARR_DEL15      CANCELLED       DIVERTED       DISTANCE  Unnamed: 21  \n",
       "count  565963.000000  583985.000000  583985.000000  583985.000000          0.0  \n",
       "mean        0.185917       0.028641       0.002219     797.742767          NaN  \n",
       "std         0.389040       0.166796       0.047056     589.999261          NaN  \n",
       "min         0.000000       0.000000       0.000000      31.000000          NaN  \n",
       "25%         0.000000       0.000000       0.000000     363.000000          NaN  \n",
       "50%         0.000000       0.000000       0.000000     640.000000          NaN  \n",
       "75%         0.000000       0.000000       0.000000    1037.000000          NaN  \n",
       "max         1.000000       1.000000       1.000000    4983.000000          NaN  "
      ]
     },
     "execution_count": 23,
     "metadata": {},
     "output_type": "execute_result"
    }
   ],
   "source": [
    "data.describe()"
   ]
  },
  {
   "cell_type": "markdown",
   "id": "4c6c3d8e",
   "metadata": {},
   "source": [
    "**Beholding all the minimal and max values in all the labels**"
   ]
  },
  {
   "cell_type": "code",
   "execution_count": 24,
   "id": "c8b00b56",
   "metadata": {},
   "outputs": [
    {
     "name": "stderr",
     "output_type": "stream",
     "text": [
      "C:\\Users\\gioam\\AppData\\Local\\Temp\\ipykernel_7504\\927168777.py:1: FutureWarning: Dropping of nuisance columns in DataFrame reductions (with 'numeric_only=None') is deprecated; in a future version this will raise TypeError.  Select only valid columns before calling the reduction.\n",
      "  data.min()\n"
     ]
    },
    {
     "data": {
      "text/plain": [
       "DAY_OF_MONTH                     1\n",
       "DAY_OF_WEEK                      1\n",
       "OP_UNIQUE_CARRIER               9E\n",
       "OP_CARRIER_AIRLINE_ID        19393\n",
       "OP_CARRIER                      9E\n",
       "OP_CARRIER_FL_NUM                1\n",
       "ORIGIN_AIRPORT_ID            10135\n",
       "ORIGIN_AIRPORT_SEQ_ID      1013505\n",
       "ORIGIN                         ABE\n",
       "DEST_AIRPORT_ID              10135\n",
       "DEST_AIRPORT_SEQ_ID        1013505\n",
       "DEST                           ABE\n",
       "DEP_TIME                       1.0\n",
       "DEP_DEL15                      0.0\n",
       "DEP_TIME_BLK             0001-0559\n",
       "ARR_TIME                       1.0\n",
       "ARR_DEL15                      0.0\n",
       "CANCELLED                      0.0\n",
       "DIVERTED                       0.0\n",
       "DISTANCE                      31.0\n",
       "Unnamed: 21                    NaN\n",
       "dtype: object"
      ]
     },
     "execution_count": 24,
     "metadata": {},
     "output_type": "execute_result"
    }
   ],
   "source": [
    "data.min()"
   ]
  },
  {
   "cell_type": "code",
   "execution_count": 25,
   "id": "631608bb",
   "metadata": {},
   "outputs": [
    {
     "name": "stderr",
     "output_type": "stream",
     "text": [
      "C:\\Users\\gioam\\AppData\\Local\\Temp\\ipykernel_7504\\2904433368.py:1: FutureWarning: Dropping of nuisance columns in DataFrame reductions (with 'numeric_only=None') is deprecated; in a future version this will raise TypeError.  Select only valid columns before calling the reduction.\n",
      "  data.max()\n"
     ]
    },
    {
     "data": {
      "text/plain": [
       "DAY_OF_MONTH                    31\n",
       "DAY_OF_WEEK                      7\n",
       "OP_UNIQUE_CARRIER               YX\n",
       "OP_CARRIER_AIRLINE_ID        20452\n",
       "OP_CARRIER                      YX\n",
       "OP_CARRIER_FL_NUM             7439\n",
       "ORIGIN_AIRPORT_ID            16218\n",
       "ORIGIN_AIRPORT_SEQ_ID      1621802\n",
       "ORIGIN                         YUM\n",
       "DEST_AIRPORT_ID              16218\n",
       "DEST_AIRPORT_SEQ_ID        1621802\n",
       "DEST                           YUM\n",
       "DEP_TIME                    2400.0\n",
       "DEP_DEL15                      1.0\n",
       "DEP_TIME_BLK             2300-2359\n",
       "ARR_TIME                    2400.0\n",
       "ARR_DEL15                      1.0\n",
       "CANCELLED                      1.0\n",
       "DIVERTED                       1.0\n",
       "DISTANCE                    4983.0\n",
       "Unnamed: 21                    NaN\n",
       "dtype: object"
      ]
     },
     "execution_count": 25,
     "metadata": {},
     "output_type": "execute_result"
    }
   ],
   "source": [
    "data.max()"
   ]
  },
  {
   "cell_type": "markdown",
   "id": "c1aee786",
   "metadata": {},
   "source": [
    "**Checking out the mode from the label \"Distance\"**"
   ]
  },
  {
   "cell_type": "code",
   "execution_count": 30,
   "id": "9ce60596",
   "metadata": {},
   "outputs": [
    {
     "data": {
      "text/plain": [
       "0    337.0\n",
       "Name: DISTANCE, dtype: float64"
      ]
     },
     "execution_count": 30,
     "metadata": {},
     "output_type": "execute_result"
    }
   ],
   "source": [
    "data[\"DISTANCE\"].mode()"
   ]
  },
  {
   "cell_type": "markdown",
   "id": "31a2531b",
   "metadata": {},
   "source": [
    "**On the following function, I'm gonna check the frequency of the values on the label \"DISTANCE\"**"
   ]
  },
  {
   "cell_type": "code",
   "execution_count": 34,
   "id": "269c7c69",
   "metadata": {},
   "outputs": [
    {
     "data": {
      "text/plain": [
       "337.0     4167\n",
       "296.0     3277\n",
       "733.0     2875\n",
       "214.0     2463\n",
       "594.0     2411\n",
       "          ... \n",
       "1760.0       2\n",
       "1341.0       2\n",
       "1451.0       2\n",
       "133.0        1\n",
       "1479.0       1\n",
       "Name: DISTANCE, Length: 1451, dtype: int64"
      ]
     },
     "execution_count": 34,
     "metadata": {},
     "output_type": "execute_result"
    }
   ],
   "source": [
    "data[\"DISTANCE\"].value_counts()"
   ]
  },
  {
   "cell_type": "markdown",
   "id": "031dde6e",
   "metadata": {},
   "source": [
    "**With the outcome, I can realize short diatances are more frequent than long distances**"
   ]
  },
  {
   "cell_type": "markdown",
   "id": "8ed5f4a4",
   "metadata": {},
   "source": [
    "### So far what we have gotten from this, is that we don't have a *normal distribution* , neither a *multimodal distribution* where the mode is a real value"
   ]
  },
  {
   "cell_type": "markdown",
   "id": "e6246479",
   "metadata": {},
   "source": [
    "## Variance and Standart deviation"
   ]
  },
  {
   "cell_type": "code",
   "execution_count": 35,
   "id": "70df6f87",
   "metadata": {},
   "outputs": [
    {
     "data": {
      "text/plain": [
       "348099.1284187481"
      ]
     },
     "execution_count": 35,
     "metadata": {},
     "output_type": "execute_result"
    }
   ],
   "source": [
    "data[\"DISTANCE\"].var()"
   ]
  },
  {
   "cell_type": "code",
   "execution_count": 36,
   "id": "4824c5d7",
   "metadata": {},
   "outputs": [
    {
     "data": {
      "text/plain": [
       "589.9992613713581"
      ]
     },
     "execution_count": 36,
     "metadata": {},
     "output_type": "execute_result"
    }
   ],
   "source": [
    "data[\"DISTANCE\"].std()"
   ]
  },
  {
   "cell_type": "markdown",
   "id": "1b75ea7f",
   "metadata": {},
   "source": [
    "**Checking with the boxplot is there are outliners on the set of observations**"
   ]
  },
  {
   "cell_type": "code",
   "execution_count": 33,
   "id": "ed6c0e4d",
   "metadata": {},
   "outputs": [
    {
     "data": {
      "text/plain": [
       "<AxesSubplot:>"
      ]
     },
     "execution_count": 33,
     "metadata": {},
     "output_type": "execute_result"
    },
    {
     "data": {
      "image/png": "[encoded data removed]",
      "text/plain": [
       "<Figure size 432x288 with 1 Axes>"
      ]
     },
     "metadata": {
      "needs_background": "light"
     },
     "output_type": "display_data"
    }
   ],
   "source": [
    "data[\"DISTANCE\"].plot.box()"
   ]
  },
  {
   "cell_type": "code",
   "execution_count": 38,
   "id": "eb9fa420",
   "metadata": {},
   "outputs": [
    {
     "data": {
      "text/plain": [
       "<AxesSubplot:xlabel='DISTANCE'>"
      ]
     },
     "execution_count": 38,
     "metadata": {},
     "output_type": "execute_result"
    },
    {
     "data": {
      "image/png": "[encoded data removed]",
      "text/plain": [
       "<Figure size 432x288 with 1 Axes>"
      ]
     },
     "metadata": {
      "needs_background": "light"
     },
     "output_type": "display_data"
    }
   ],
   "source": [
    "sns.boxplot(x=data[\"DISTANCE\"])"
   ]
  },
  {
   "cell_type": "code",
   "execution_count": 40,
   "id": "5344c15d",
   "metadata": {},
   "outputs": [
    {
     "data": {
      "text/plain": [
       "<AxesSubplot:>"
      ]
     },
     "execution_count": 40,
     "metadata": {},
     "output_type": "execute_result"
    },
    {
     "data": {
      "image/png": "[encoded data removed]",
      "text/plain": [
       "<Figure size 432x288 with 1 Axes>"
      ]
     },
     "metadata": {
      "needs_background": "light"
     },
     "output_type": "display_data"
    }
   ],
   "source": [
    "data[\"DISTANCE\"].hist()"
   ]
  },
  {
   "cell_type": "markdown",
   "id": "1f13c5ff",
   "metadata": {},
   "source": [
    "**According wiht the charts above, we can tell it has outlines and the next step is treat them to avoid to bother our statistics model**"
   ]
  },
  {
   "cell_type": "markdown",
   "id": "13980df0",
   "metadata": {},
   "source": [
    "**We can also afirm this label has a** *Positive Skew distribution* "
   ]
  },
  {
   "cell_type": "code",
   "execution_count": 39,
   "id": "6e972818",
   "metadata": {},
   "outputs": [
    {
     "data": {
      "text/plain": [
       "count    583985.000000\n",
       "mean        797.742767\n",
       "std         589.999261\n",
       "min          31.000000\n",
       "25%         363.000000\n",
       "50%         640.000000\n",
       "75%        1037.000000\n",
       "max        4983.000000\n",
       "Name: DISTANCE, dtype: float64"
      ]
     },
     "execution_count": 39,
     "metadata": {},
     "output_type": "execute_result"
    }
   ],
   "source": [
    "data[\"DISTANCE\"].describe()"
   ]
  },
  {
   "cell_type": "code",
   "execution_count": 41,
   "id": "5459e3c8",
   "metadata": {},
   "outputs": [
    {
     "data": {
      "text/plain": [
       "31.0"
      ]
     },
     "execution_count": 41,
     "metadata": {},
     "output_type": "execute_result"
    }
   ],
   "source": [
    "data[\"DISTANCE\"].min()"
   ]
  },
  {
   "cell_type": "code",
   "execution_count": 42,
   "id": "c808a240",
   "metadata": {},
   "outputs": [
    {
     "data": {
      "text/plain": [
       "4983.0"
      ]
     },
     "execution_count": 42,
     "metadata": {},
     "output_type": "execute_result"
    }
   ],
   "source": [
    "data[\"DISTANCE\"].max()"
   ]
  },
  {
   "cell_type": "code",
   "execution_count": null,
   "id": "1cbb4a2c",
   "metadata": {},
   "outputs": [],
   "source": []
  }
 ],
 "metadata": {
  "kernelspec": {
   "display_name": "Python 3 (ipykernel)",
   "language": "python",
   "name": "python3"
  },
  "language_info": {
   "codemirror_mode": {
    "name": "ipython",
    "version": 3
   },
   "file_extension": ".py",
   "mimetype": "text/x-python",
   "name": "python",
   "nbconvert_exporter": "python",
   "pygments_lexer": "ipython3",
   "version": "3.9.12"
  }
 },
 "nbformat": 4,
 "nbformat_minor": 5
}
